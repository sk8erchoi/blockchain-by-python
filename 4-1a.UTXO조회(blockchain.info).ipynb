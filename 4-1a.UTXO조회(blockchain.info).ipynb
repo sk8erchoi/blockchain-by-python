{
 "cells": [
  {
   "cell_type": "code",
   "execution_count": 3,
   "id": "006f45e4",
   "metadata": {},
   "outputs": [
    {
     "name": "stdout",
     "output_type": "stream",
     "text": [
      "\n",
      "Numbr of UTXOs =  4\n",
      "Confirmations =  85655\n",
      "tx_hash =  eddaf923aa5314d2a0b45bcb90d193b32bd0be3d1714ce47db076bba74d5bfcf\n",
      "tx_output_n =  1\n",
      "value =  600\n",
      "\n",
      "Confirmations =  86421\n",
      "tx_hash =  9b1e8875a9e7d6413225ade6901d9c13d14477eebe750ce4134df02d61ba4461\n",
      "tx_output_n =  1\n",
      "value =  600\n",
      "\n",
      "Confirmations =  86775\n",
      "tx_hash =  a6e0823d92f17c6319c40fa31e513d25b301cf7afa8c76cfa602d21b48432ede\n",
      "tx_output_n =  1\n",
      "value =  10000\n",
      "\n",
      "Confirmations =  94526\n",
      "tx_hash =  495fa94c38c74aada95d5f88fd68dea3aea06583c53d33cfdbaa3b6fe051737d\n",
      "tx_output_n =  1\n",
      "value =  10000\n",
      "\n",
      "\n",
      "Total Balance =  21200 (Satoshi)\n"
     ]
    }
   ],
   "source": [
    "# 파이썬 실습 파일: 4-1.UTXO조회.py\n",
    "import requests\n",
    "\n",
    "# 아래 주소의 UTXO를 조회한다\n",
    "addr = '1Nh7uHdvY6fNwtQtM1G5EZAFPLC33B59rB'\n",
    "url = 'https://blockchain.info/unspent?active=' + addr\n",
    "resp = requests.get(url=url)\n",
    "if resp.status_code != 200:\n",
    "    print(\"\\n\", resp.text)\n",
    "else:\n",
    "    data = resp.json()\n",
    "    utxo = data['unspent_outputs']\n",
    "    \n",
    "    # UTXO가 여러 개인 경우 모두 출력한다\n",
    "    totBalance = 0\n",
    "    print(\"\\nNumbr of UTXOs = \", len(utxo))\n",
    "    for n in range(len(utxo)):\n",
    "        print(\"Confirmations = \", utxo[n]['confirmations'])\n",
    "        print(\"tx_hash = \", utxo[n]['tx_hash'])\n",
    "        print(\"tx_output_n = \", utxo[n]['tx_output_n'])\n",
    "        print(\"value = \", utxo[n]['value'])\n",
    "        print()\n",
    "        totBalance += utxo[n]['value']\n",
    "    \n",
    "    # UTXO의 value의 총 합이 이 지갑에서 사용할 수 있는 총 잔고임.\n",
    "    print(\"\\nTotal Balance = \", totBalance, '(Satoshi)')"
   ]
  }
 ],
 "metadata": {
  "kernelspec": {
   "display_name": "Python 3 (ipykernel)",
   "language": "python",
   "name": "python3"
  },
  "language_info": {
   "codemirror_mode": {
    "name": "ipython",
    "version": 3
   },
   "file_extension": ".py",
   "mimetype": "text/x-python",
   "name": "python",
   "nbconvert_exporter": "python",
   "pygments_lexer": "ipython3",
   "version": "3.10.0"
  }
 },
 "nbformat": 4,
 "nbformat_minor": 5
}
