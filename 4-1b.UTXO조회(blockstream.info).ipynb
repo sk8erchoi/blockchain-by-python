{
 "cells": [
  {
   "cell_type": "code",
   "execution_count": 1,
   "id": "6de0d21d",
   "metadata": {},
   "outputs": [],
   "source": [
    "import requests\n",
    "\n",
    "\n",
    "def baseurl(addr):\n",
    "    if addr.startswith('1'):\n",
    "        return 'https://blockstream.info/api/'\n",
    "    elif addr.startswith('m'):\n",
    "        return 'https://blockstream.info/testnet/api/'\n",
    "\n",
    "    \n",
    "def print_utxo(addr):\n",
    "    url = baseurl(addr) + f'address/{addr}/utxo'\n",
    "    resp = requests.get(url=url)\n",
    "    if resp.status_code != 200:\n",
    "        print(\"\\n\", resp.text)\n",
    "        return\n",
    "    \n",
    "    utxo = resp.json()\n",
    "\n",
    "    totBalance = 0\n",
    "    print(f\"\\nNumbr of UTXOs = {len(utxo)}\\n\")\n",
    "    for n in range(len(utxo)):\n",
    "        txid = utxo[n]['txid']\n",
    "        print(\"txid = \", txid)        \n",
    "        print(\"vout = \", utxo[n]['vout'])\n",
    "        print(\"value = \", utxo[n]['value'])\n",
    "        totBalance += utxo[n]['value']\n",
    "        print()\n",
    "\n",
    "    # UTXO의 value의 총 합이 이 지갑에서 사용할 수 있는 총 잔고임.\n",
    "    print(\"\\nTotal Balance = \", totBalance, '(Satoshi)')"
   ]
  },
  {
   "cell_type": "code",
   "execution_count": 2,
   "id": "2ff15715",
   "metadata": {
    "scrolled": false
   },
   "outputs": [
    {
     "name": "stdout",
     "output_type": "stream",
     "text": [
      "\n",
      "Numbr of UTXOs = 4\n",
      "\n",
      "txid =  de2e43481bd202a6cf768cfa7acf01b3253d511ea30fc419637cf1923d82e0a6\n",
      "vout =  1\n",
      "value =  10000\n",
      "\n",
      "txid =  7d7351e06f3baadbcf333dc58365a0aea3de68fd885f5da9ad4ac7384ca95f49\n",
      "vout =  1\n",
      "value =  10000\n",
      "\n",
      "txid =  6144ba612df04d13e40c75beee7744d1139c1d90e6ad253241d6e7a975881e9b\n",
      "vout =  1\n",
      "value =  600\n",
      "\n",
      "txid =  cfbfd574ba6b07db47ce14173dbed02bb393d190cb5bb4a0d21453aa23f9daed\n",
      "vout =  1\n",
      "value =  600\n",
      "\n",
      "\n",
      "Total Balance =  21200 (Satoshi)\n"
     ]
    }
   ],
   "source": [
    "print_utxo('1Nh7uHdvY6fNwtQtM1G5EZAFPLC33B59rB')"
   ]
  },
  {
   "cell_type": "code",
   "execution_count": 3,
   "id": "e150a695",
   "metadata": {},
   "outputs": [
    {
     "name": "stdout",
     "output_type": "stream",
     "text": [
      "\n",
      "Numbr of UTXOs = 16\n",
      "\n",
      "txid =  95a2d9d700f4470a880bc8cdcc03ccdb9f982ad10fbb687e0d8cda9c4d18a5e7\n",
      "vout =  1\n",
      "value =  3208412\n",
      "\n",
      "txid =  6be773a9562ce69ac7406dac90e72007776c9671ef43d99f99664d1382f3bea0\n",
      "vout =  1\n",
      "value =  1363522\n",
      "\n",
      "txid =  142dfa78452ec174c7a5f99b5e46fd7d0931a651498fba3f2bbd39b6b9bcd814\n",
      "vout =  0\n",
      "value =  1238939\n",
      "\n",
      "txid =  29088565e585cc583a9001bc8eb3f9f511ecf661998b6054e7dbd8a7283590c7\n",
      "vout =  1\n",
      "value =  99832\n",
      "\n",
      "txid =  f4c6c37cda8d0a7dbe302b881b639170cce0e646647a0829476d736a0b39fcea\n",
      "vout =  0\n",
      "value =  500000\n",
      "\n",
      "txid =  f6f69f61d83846274e48796df96eaaefe0f6e1786f339f66d38711e0ca4aa66d\n",
      "vout =  1\n",
      "value =  9917781\n",
      "\n",
      "txid =  75b5d9f6dfe94ab80cf32291758502f81e8a0039671114569c2544dc5069802c\n",
      "vout =  1\n",
      "value =  1205238\n",
      "\n",
      "txid =  6d071247cdd320ec995e4261f5702d9870524e903c80366b266887b0f74cc8e9\n",
      "vout =  0\n",
      "value =  2000000\n",
      "\n",
      "txid =  61048b6c3faadcfe7137ad3528f8113fa661756c65483c4573dd1a6261a3afdd\n",
      "vout =  1\n",
      "value =  1796379\n",
      "\n",
      "txid =  ed03e6141d3ee6e9b9709eaa35feacb39b2b4231a26e5f62452eae7bfc960a9b\n",
      "vout =  1\n",
      "value =  373581\n",
      "\n",
      "txid =  ca45460b49c36b260cdf6f6d97f475ca43e39842c3823d208759236fec1cc027\n",
      "vout =  0\n",
      "value =  1250089\n",
      "\n",
      "txid =  5d0e26ee7bc7db0aea7a62a926a36d99dd7698669e50ed4c91976dc9e58a2b73\n",
      "vout =  0\n",
      "value =  1683092\n",
      "\n",
      "txid =  a4834a8062ddcf5a1c7627760d47016bdbc8dbb2e0d3ae2aa7903b3a3bd3de1a\n",
      "vout =  1\n",
      "value =  1225832\n",
      "\n",
      "txid =  ee707d5263fede12850c1fa118a4c89acfd74912570f69a75bd39386defcf3c5\n",
      "vout =  1\n",
      "value =  1862110\n",
      "\n",
      "txid =  76973c9e1a9101b288d0d3cda824fffc7f2dbecb815f5435b7b31cc0399ac9b8\n",
      "vout =  0\n",
      "value =  1249198\n",
      "\n",
      "txid =  413a5da67c4ef1f22ee8cc6cf32ca273d75ff9c37e6750bc8a712ae1108c1091\n",
      "vout =  1\n",
      "value =  1762275\n",
      "\n",
      "\n",
      "Total Balance =  30736280 (Satoshi)\n"
     ]
    }
   ],
   "source": [
    "print_utxo('mhJH61ScRnWJrhJm6283BbmACr27FjzT4Y')"
   ]
  }
 ],
 "metadata": {
  "kernelspec": {
   "display_name": "Python 3 (ipykernel)",
   "language": "python",
   "name": "python3"
  },
  "language_info": {
   "codemirror_mode": {
    "name": "ipython",
    "version": 3
   },
   "file_extension": ".py",
   "mimetype": "text/x-python",
   "name": "python",
   "nbconvert_exporter": "python",
   "pygments_lexer": "ipython3",
   "version": "3.10.0"
  }
 },
 "nbformat": 4,
 "nbformat_minor": 5
}
